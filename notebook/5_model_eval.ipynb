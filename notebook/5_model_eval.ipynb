{
 "cells": [
  {
   "cell_type": "code",
   "execution_count": 1,
   "id": "980aedf0",
   "metadata": {},
   "outputs": [],
   "source": [
    "import os"
   ]
  },
  {
   "cell_type": "code",
   "execution_count": 2,
   "id": "ec15f7a9",
   "metadata": {},
   "outputs": [
    {
     "data": {
      "text/plain": [
       "'c:\\\\Users\\\\kk061\\\\OneDrive\\\\Desktop\\\\python\\\\Mlflow Main\\\\Heart Stroke Prediction\\\\notebook'"
      ]
     },
     "execution_count": 2,
     "metadata": {},
     "output_type": "execute_result"
    }
   ],
   "source": [
    "%pwd"
   ]
  },
  {
   "cell_type": "code",
   "execution_count": 3,
   "id": "20a46181",
   "metadata": {},
   "outputs": [
    {
     "data": {
      "text/plain": [
       "'c:\\\\Users\\\\kk061\\\\OneDrive\\\\Desktop\\\\python\\\\Mlflow Main\\\\Heart Stroke Prediction'"
      ]
     },
     "execution_count": 3,
     "metadata": {},
     "output_type": "execute_result"
    }
   ],
   "source": [
    "os.chdir('../')\n",
    "%pwd"
   ]
  },
  {
   "cell_type": "code",
   "execution_count": 4,
   "id": "3c86e7c4",
   "metadata": {},
   "outputs": [],
   "source": [
    "os.environ[\"MLFLOW_TRACKING_URI\"]=\"https://dagshub.com/kk1455217/Heart-Stroke-Prediction.mlflow\"\n",
    "os.environ[\"MLFLOW_TRACKING_USERNAME\"]=\"kk1455217\"\n",
    "os.environ[\"MLFLOW_TRACKING_PASSWORD\"]=\"9c05d7cb76433d44cb358f7431105d416ba10413\""
   ]
  },
  {
   "cell_type": "code",
   "execution_count": 5,
   "id": "aa3caa5a",
   "metadata": {},
   "outputs": [],
   "source": [
    "from dataclasses import dataclass\n",
    "from pathlib import Path\n",
    "\n",
    "\n",
    "@dataclass\n",
    "class ModelEvaluationConfig:\n",
    "    root_dir: Path\n",
    "    test_data_path: Path\n",
    "    model_path: Path\n",
    "    pkl_path: Path\n",
    "    all_params: dict\n",
    "    metric_file_name: Path\n",
    "    target_column: str\n",
    "    mlflow_uri: str\n"
   ]
  },
  {
   "cell_type": "code",
   "execution_count": 6,
   "id": "baba784f",
   "metadata": {},
   "outputs": [
    {
     "name": "stdout",
     "output_type": "stream",
     "text": [
      "[2025-04-09 17:21:48,402: INFO: __init__: This is an info message.]\n",
      "[2025-04-09 17:21:48,404: ERROR: __init__: This is an error message.]\n"
     ]
    }
   ],
   "source": [
    "from src.heartstrokeprediction.constants import *\n",
    "from src.heartstrokeprediction.utils.common import read_yaml, create_directories,save_json"
   ]
  },
  {
   "cell_type": "code",
   "execution_count": 7,
   "id": "075715a4",
   "metadata": {},
   "outputs": [],
   "source": [
    "class ConfigurationManager:\n",
    "    def __init__(\n",
    "        self,\n",
    "        config_filepath=CONFIG_FILE_PATH,\n",
    "        params_filepath=PARAMS_FILE_PATH,\n",
    "        schema_filepath=SCHEMA_FILE_PATH):\n",
    "\n",
    "        self.config = read_yaml(config_filepath)\n",
    "        self.params = read_yaml(params_filepath)\n",
    "        self.schema = read_yaml(schema_filepath)\n",
    "\n",
    "        create_directories([self.config.artifacts_root])\n",
    "\n",
    "    def get_model_evaluation_config(self) -> ModelEvaluationConfig:\n",
    "        config = self.config.model_evaluation\n",
    "        params = self.params.LogisticRegression\n",
    "        schema = self.schema.TARGET_COLUMN\n",
    "\n",
    "        create_directories([config.root_dir])\n",
    "\n",
    "        model_evaluation_config = ModelEvaluationConfig(\n",
    "            root_dir=config.root_dir,\n",
    "            test_data_path=config.test_data_path,\n",
    "            model_path=config.model_path,\n",
    "            pkl_path=config.pkl_path,\n",
    "            all_params=params,\n",
    "            metric_file_name=config.metric_file_name,\n",
    "            target_column=schema.name,\n",
    "            mlflow_uri=\"https://dagshub.com/kk1455217/Heart-Stroke-Prediction.mlflow\"\n",
    "        )\n",
    "        return model_evaluation_config"
   ]
  },
  {
   "cell_type": "code",
   "execution_count": 8,
   "id": "ace9ec6b",
   "metadata": {},
   "outputs": [],
   "source": [
    "import os\n",
    "from src.heartstrokeprediction import logger\n",
    "import pandas as pd\n",
    "from sklearn.metrics import mean_squared_error, mean_absolute_error, r2_score\n",
    "from urllib.parse import urlparse\n",
    "import mlflow\n",
    "import mlflow.sklearn\n",
    "import numpy as np\n",
    "import joblib\n",
    "import seaborn as sns\n",
    "import matplotlib.pyplot as plt"
   ]
  },
  {
   "cell_type": "code",
   "execution_count": 9,
   "id": "e776b0c7",
   "metadata": {},
   "outputs": [],
   "source": [
    "class ModelEvaluation:\n",
    "    def __init__(self, config: ModelEvaluationConfig):\n",
    "        self.config = config\n",
    "\n",
    "    def eval_metrics(self, actual, pred):\n",
    "        \"\"\"Calculate evaluation metrics: RMSE, MAE, R2\"\"\"\n",
    "        rmse = np.sqrt(mean_squared_error(actual, pred))\n",
    "        mae = mean_absolute_error(actual, pred)\n",
    "        r2 = r2_score(actual, pred)\n",
    "        return rmse, mae, r2\n",
    "\n",
    "    def log_into_mlflow(self):\n",
    "        \"\"\"Evaluate model and log results into MLflow\"\"\"\n",
    "        # Load the test data\n",
    "        test_data = pd.read_csv(self.config.test_data_path)\n",
    "\n",
    "        # Load the model and scaler\n",
    "        model = joblib.load(self.config.model_path)\n",
    "        scaler = joblib.load(self.config.pkl_path)\n",
    "\n",
    "        # Separate features (X) and target (y)\n",
    "        test_x = test_data.drop([self.config.target_column], axis=1)\n",
    "        test_y = test_data[[self.config.target_column]]\n",
    "\n",
    "        # Scale the test features using the saved scaler\n",
    "        test_x_scaled = scaler.transform(test_x)\n",
    "\n",
    "        # Start an MLflow run\n",
    "        mlflow.set_tracking_uri(self.config.mlflow_uri)\n",
    "        tracking_url_type_store = urlparse(mlflow.get_tracking_uri()).scheme\n",
    "\n",
    "        with mlflow.start_run():\n",
    "\n",
    "            # Make predictions on the scaled test data\n",
    "            predicted_qualities = model.predict(test_x_scaled)\n",
    "\n",
    "            # Evaluate the model and calculate metrics\n",
    "            rmse, mae, r2 = self.eval_metrics(test_y, predicted_qualities)\n",
    "\n",
    "            # Save the metrics as a JSON file\n",
    "            scores = {\"rmse\": rmse, \"mae\": mae, \"r2\": r2}\n",
    "            save_json(path=Path(self.config.metric_file_name), data=scores)\n",
    "\n",
    "            # Log parameters to MLflow\n",
    "            mlflow.log_params(self.config.all_params)\n",
    "\n",
    "            # Log metrics to MLflow\n",
    "            mlflow.log_metric(\"rmse\", rmse)\n",
    "            mlflow.log_metric(\"mae\", mae)\n",
    "            mlflow.log_metric(\"r2\", r2)\n",
    "\n",
    "            # If not using a file store, register the model in the Model Registry\n",
    "            if tracking_url_type_store != \"file\":\n",
    "                mlflow.sklearn.log_model(model, \"model\", registered_model_name=\"HeartStrokePredictionModel\")\n",
    "            else:\n",
    "                mlflow.sklearn.log_model(model, \"model\")\n",
    "\n",
    "            print(f\"Evaluation metrics saved and model logged in MLflow!\")"
   ]
  },
  {
   "cell_type": "code",
   "execution_count": 10,
   "id": "d4ae0e00",
   "metadata": {},
   "outputs": [
    {
     "name": "stdout",
     "output_type": "stream",
     "text": [
      "[2025-04-09 17:22:00,681: INFO: common: YAML file: config\\config.yaml loaded successfully]\n",
      "[2025-04-09 17:22:00,685: INFO: common: YAML file: params.yaml loaded successfully]\n",
      "[2025-04-09 17:22:00,690: INFO: common: YAML file: schema.yaml loaded successfully]\n",
      "[2025-04-09 17:22:00,692: INFO: common: created directory at: artifacts]\n",
      "[2025-04-09 17:22:00,695: INFO: common: created directory at: artifacts/model_evaluation]\n",
      "[2025-04-09 17:22:01,793: INFO: common: json file saved at: artifacts\\model_evaluation\\metrics.json]\n"
     ]
    },
    {
     "name": "stderr",
     "output_type": "stream",
     "text": [
      "2025/04/09 17:22:13 WARNING mlflow.models.model: Model logged without a signature and input example. Please set `input_example` parameter when logging the model to auto infer the model signature.\n",
      "Registered model 'HeartStrokePredictionModel' already exists. Creating a new version of this model...\n",
      "2025/04/09 17:22:20 INFO mlflow.store.model_registry.abstract_store: Waiting up to 300 seconds for model version to finish creation. Model name: HeartStrokePredictionModel, version 3\n",
      "Created version '3' of model 'HeartStrokePredictionModel'.\n"
     ]
    },
    {
     "name": "stdout",
     "output_type": "stream",
     "text": [
      "Evaluation metrics saved and model logged in MLflow!\n",
      "🏃 View run auspicious-eel-374 at: https://dagshub.com/kk1455217/Heart-Stroke-Prediction.mlflow/#/experiments/0/runs/1cfa307fd04540bf8ede3af5c5be5d69\n",
      "🧪 View experiment at: https://dagshub.com/kk1455217/Heart-Stroke-Prediction.mlflow/#/experiments/0\n"
     ]
    }
   ],
   "source": [
    "try:\n",
    "    # Load configuration for evaluation\n",
    "    config = ConfigurationManager()\n",
    "    model_evaluation_config = config.get_model_evaluation_config()\n",
    "\n",
    "    # Instantiate ModelEvaluator and evaluate\n",
    "    evaluator = ModelEvaluation(config=model_evaluation_config)\n",
    "    evaluator.log_into_mlflow()\n",
    "\n",
    "except Exception as e:\n",
    "    logger.error(f\"Error in model evaluation: {str(e)}\")\n",
    "    raise e"
   ]
  }
 ],
 "metadata": {
  "kernelspec": {
   "display_name": "Python 3",
   "language": "python",
   "name": "python3"
  },
  "language_info": {
   "codemirror_mode": {
    "name": "ipython",
    "version": 3
   },
   "file_extension": ".py",
   "mimetype": "text/x-python",
   "name": "python",
   "nbconvert_exporter": "python",
   "pygments_lexer": "ipython3",
   "version": "3.10.0"
  }
 },
 "nbformat": 4,
 "nbformat_minor": 5
}
